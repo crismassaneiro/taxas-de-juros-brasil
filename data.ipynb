{
 "cells": [
  {
   "attachments": {},
   "cell_type": "markdown",
   "metadata": {},
   "source": [
    "### Histórico das Taxas de Juros - Brasil"
   ]
  },
  {
   "attachments": {},
   "cell_type": "markdown",
   "metadata": {},
   "source": [
    "Fonte <br/>\n",
    "https://www.bcb.gov.br/controleinflacao/historicotaxasjuros"
   ]
  },
  {
   "attachments": {},
   "cell_type": "markdown",
   "metadata": {},
   "source": [
    "Objetivo"
   ]
  },
  {
   "cell_type": "markdown",
   "metadata": {},
   "source": []
  }
 ],
 "metadata": {
  "kernelspec": {
   "display_name": "data-analysis",
   "language": "python",
   "name": "python3"
  },
  "language_info": {
   "name": "python",
   "version": "3.11.1"
  },
  "orig_nbformat": 4,
  "vscode": {
   "interpreter": {
    "hash": "e6386ef85bee7ecd711ea49c5ac842ccccdfb16cff9b2312df3720748f01a69e"
   }
  }
 },
 "nbformat": 4,
 "nbformat_minor": 2
}
